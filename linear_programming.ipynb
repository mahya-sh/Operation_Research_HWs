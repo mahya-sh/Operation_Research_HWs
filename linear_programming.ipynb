{
  "nbformat": 4,
  "nbformat_minor": 0,
  "metadata": {
    "colab": {
      "provenance": []
    },
    "kernelspec": {
      "name": "python3",
      "display_name": "Python 3"
    },
    "language_info": {
      "name": "python"
    }
  },
  "cells": [
    {
      "cell_type": "markdown",
      "source": [
        "\n",
        "\n",
        "\n",
        "\n",
        "##OR - HW 5 - Problem 4\n",
        "###Mahya Shahshahani - 810199598"
      ],
      "metadata": {
        "id": "u_2IC77rL1TM"
      }
    },
    {
      "cell_type": "code",
      "execution_count": 16,
      "metadata": {
        "colab": {
          "base_uri": "https://localhost:8080/"
        },
        "id": "pK8NSlb6PFIo",
        "outputId": "a9c5b18c-a11a-4f8b-93c9-4eb11cbdac10"
      },
      "outputs": [
        {
          "output_type": "stream",
          "name": "stdout",
          "text": [
            "Requirement already satisfied: pyomo in /usr/local/lib/python3.10/dist-packages (6.7.0)\n",
            "Requirement already satisfied: ply in /usr/local/lib/python3.10/dist-packages (from pyomo) (3.11)\n"
          ]
        }
      ],
      "source": [
        "!pip install pyomo\n",
        "from pyomo.environ import *\n",
        "!wget -N -q \"https://matematica.unipv.it/gualandi/solvers/ipopt-linux64.zip\"\n",
        "!unzip -o -q ipopt-linux64\n",
        "!apt-get install -y -qq glpk-utils"
      ]
    },
    {
      "cell_type": "code",
      "source": [
        "import pyomo.environ as pyo\n",
        "from pyomo.environ import *\n",
        "from pyomo.opt import SolverFactory\n",
        "import numpy as np\n",
        "import math"
      ],
      "metadata": {
        "id": "aI0fQ39CRfxZ"
      },
      "execution_count": 17,
      "outputs": []
    },
    {
      "cell_type": "code",
      "source": [
        "model = pyo.ConcreteModel()\n",
        "\n",
        "model.x = pyo.Var(bounds = (0, np.inf))\n",
        "model.y = pyo.Var(bounds = (0, np.inf))\n",
        "\n",
        "x = model.x\n",
        "y = model.y\n",
        "\n",
        "model.C1 = pyo.Constraint(expr = x>=0)\n",
        "model.C2 = pyo.Constraint(expr = y>=0)\n",
        "model.C3 = pyo.Constraint(expr = 5*x+2*y>=5)\n",
        "\n",
        "model.obj = pyo.Objective(expr = pyo.log(x+1) + y, sense = minimize)\n",
        "\n",
        "solver = SolverFactory('ipopt')\n",
        "solver.solve(model)\n",
        "\n",
        "\n",
        "print(f\"optimal solution: x = {model.x()}\" f\", y={model.y()}\")"
      ],
      "metadata": {
        "colab": {
          "base_uri": "https://localhost:8080/"
        },
        "id": "1wUMYTKMSvSs",
        "outputId": "123b2ffc-4936-410f-fce0-c1451185df0a"
      },
      "execution_count": 18,
      "outputs": [
        {
          "output_type": "stream",
          "name": "stdout",
          "text": [
            "optimal solution: x = 0.9999999964730953, y=0.0\n"
          ]
        }
      ]
    },
    {
      "cell_type": "code",
      "source": [
        "results = solver.solve(model)\n",
        "\n",
        "if (results.solver.status == SolverStatus.ok) and (results.solver.termination_condition == TerminationCondition.optimal):\n",
        "    print(\"Global optimum has been found.\")\n",
        "else:\n",
        "    print(\"Global optimum could not be found.\")"
      ],
      "metadata": {
        "colab": {
          "base_uri": "https://localhost:8080/"
        },
        "id": "eTBt8onGeqSZ",
        "outputId": "ea62e853-54e6-48bf-886e-fbb17d0c751a"
      },
      "execution_count": 19,
      "outputs": [
        {
          "output_type": "stream",
          "name": "stdout",
          "text": [
            "Global optimum has been found.\n"
          ]
        }
      ]
    }
  ]
}